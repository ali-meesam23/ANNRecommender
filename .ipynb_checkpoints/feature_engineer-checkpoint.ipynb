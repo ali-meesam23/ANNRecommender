{
 "cells": [
  {
   "cell_type": "code",
   "execution_count": 1,
   "id": "weird-matthew",
   "metadata": {},
   "outputs": [],
   "source": [
    "from itertools import chain\n",
    "import pandas as pd\n",
    "import numpy as np\n",
    "import datetime\n",
    "import time\n",
    "import os\n",
    "from pathlib import Path\n",
    "from alpha_vantage.timeseries import TimeSeries\n",
    "import sys"
   ]
  },
  {
   "cell_type": "code",
   "execution_count": 2,
   "id": "centered-prize",
   "metadata": {},
   "outputs": [],
   "source": [
    "ALPHA_VANTAGE_DIR_PATH = Path(\"alphadata\").absolute()"
   ]
  },
  {
   "cell_type": "code",
   "execution_count": 54,
   "id": "resistant-african",
   "metadata": {},
   "outputs": [],
   "source": [
    "def generate_monthly_stats(df):\n",
    "    #print(df)\n",
    "    log_return = df[\"Close\"].apply(np.log).diff()\n",
    "    half_way_point = len(df) // 2\n",
    "    \n",
    "    df[\"first_half_log_return_mean\"] = log_return.iloc[:half_way_point].mean()\n",
    "    df[\"first_half_log_return_std\"] = log_return.iloc[:half_way_point].std()\n",
    "\n",
    "    return {\n",
    "        \"Open\": df[\"Open\"].iloc[0],\n",
    "        \"High\": df[\"High\"].max(),\n",
    "        \"Low\": df[\"Low\"].min(),\n",
    "        \"Close\": df[\"Close\"].iloc[-1],\n",
    "        \"Volume\": df[\"Volume\"].sum(),\n",
    "        : ,\n",
    "        : ,\n",
    "        \"second_half_log_return_mean\": log_return.iloc[half_way_point:].mean(),\n",
    "        \"second_half_log_return_std\": log_return.iloc[half_way_point:].std(),\n",
    "        \"first_second_half_log_return_diff\": (\n",
    "            log_return.iloc[half_way_point:].sum()\n",
    "            - log_return.iloc[:half_way_point].sum()\n",
    "        ),\n",
    "        \"log_return_mean\": log_return.mean(),\n",
    "        \"log_return_std\": log_return.std(),\n",
    "        \"log_return_min\": log_return.min(),\n",
    "        \"log_return_max\": log_return.max(),\n",
    "        \"month_log_return\": np.log(df[\"Close\"].iloc[-1] / df[\"Open\"].iloc[0]),\n",
    "        \"pct_bull\": (log_return > 0).mean()\n",
    "    }"
   ]
  },
  {
   "cell_type": "code",
   "execution_count": 7,
   "id": "prostate-green",
   "metadata": {},
   "outputs": [],
   "source": [
    "tickers = list(set(os.listdir(ALPHA_VANTAGE_DIR_PATH)))"
   ]
  },
  {
   "cell_type": "code",
   "execution_count": 10,
   "id": "cooperative-chorus",
   "metadata": {},
   "outputs": [],
   "source": [
    "slippage = .005 # 0.5% slippage per trade"
   ]
  },
  {
   "cell_type": "code",
   "execution_count": 11,
   "id": "union-flight",
   "metadata": {},
   "outputs": [],
   "source": [
    "dict_dfs = dict()"
   ]
  },
  {
   "cell_type": "code",
   "execution_count": 17,
   "id": "potential-mount",
   "metadata": {},
   "outputs": [],
   "source": [
    "t = tickers[1]"
   ]
  },
  {
   "cell_type": "code",
   "execution_count": 29,
   "id": "annoying-concern",
   "metadata": {},
   "outputs": [],
   "source": [
    "temp = (pd.read_csv(os.path.join(ALPHA_VANTAGE_DIR_PATH,t), index_col=0, parse_dates=True).groupby(pd.Grouper(freq=\"1M\")).apply(generate_monthly_stats))"
   ]
  },
  {
   "cell_type": "code",
   "execution_count": null,
   "id": "strange-dynamics",
   "metadata": {},
   "outputs": [],
   "source": [
    "    # this stock is not available on alpha vantage\n",
    "    if not (ALPHA_VANTAGE_DIR_PATH / f\"{t}.csv\").is_file():\n",
    "        continue\n",
    "    temp = (\n",
    "        pd.read_csv(ALPHA_VANTAGE_DIR_PATH / f\"{t}.csv\", index_col=0, parse_dates=True)\n",
    "        .groupby(pd.Grouper(freq=\"1M\"))\n",
    "        .apply(generate_monthly_stats)\n",
    "    )\n",
    "    print(temp)\n",
    "    temp[\"next_month_log_return\"] = np.log(\n",
    "        np.exp(temp[\"month_log_return\"].shift(-1)) * (1 - slippage) / (1 + slippage)\n",
    "    )\n",
    "    dict_dfs[t] = temp"
   ]
  },
  {
   "cell_type": "code",
   "execution_count": 61,
   "id": "native-grammar",
   "metadata": {},
   "outputs": [],
   "source": [
    "temp = pd.read_csv(os.path.join(ALPHA_VANTAGE_DIR_PATH,t), index_col=0, parse_dates=True).groupby(pd.Grouper(freq=\"1M\"))"
   ]
  },
  {
   "cell_type": "code",
   "execution_count": 63,
   "id": "intensive-canal",
   "metadata": {},
   "outputs": [
    {
     "ename": "TypeError",
     "evalue": "'DataFrameGroupBy' object does not support item assignment",
     "output_type": "error",
     "traceback": [
      "\u001b[0;31m---------------------------------------------------------------------------\u001b[0m",
      "\u001b[0;31mTypeError\u001b[0m                                 Traceback (most recent call last)",
      "\u001b[0;32m<ipython-input-63-2d8029844dce>\u001b[0m in \u001b[0;36m<module>\u001b[0;34m\u001b[0m\n\u001b[0;32m----> 1\u001b[0;31m \u001b[0mgenerate_monthly_stats\u001b[0m\u001b[0;34m(\u001b[0m\u001b[0mtemp\u001b[0m\u001b[0;34m)\u001b[0m\u001b[0;34m\u001b[0m\u001b[0;34m\u001b[0m\u001b[0m\n\u001b[0m",
      "\u001b[0;32m<ipython-input-54-ba3b8d700174>\u001b[0m in \u001b[0;36mgenerate_monthly_stats\u001b[0;34m(df)\u001b[0m\n\u001b[1;32m      4\u001b[0m     \u001b[0mhalf_way_point\u001b[0m \u001b[0;34m=\u001b[0m \u001b[0mlen\u001b[0m\u001b[0;34m(\u001b[0m\u001b[0mdf\u001b[0m\u001b[0;34m)\u001b[0m \u001b[0;34m//\u001b[0m \u001b[0;36m2\u001b[0m\u001b[0;34m\u001b[0m\u001b[0;34m\u001b[0m\u001b[0m\n\u001b[1;32m      5\u001b[0m \u001b[0;34m\u001b[0m\u001b[0m\n\u001b[0;32m----> 6\u001b[0;31m     \u001b[0mdf\u001b[0m\u001b[0;34m[\u001b[0m\u001b[0;34m\"first_half_log_return_mean\"\u001b[0m\u001b[0;34m]\u001b[0m \u001b[0;34m=\u001b[0m \u001b[0mlog_return\u001b[0m\u001b[0;34m.\u001b[0m\u001b[0miloc\u001b[0m\u001b[0;34m[\u001b[0m\u001b[0;34m:\u001b[0m\u001b[0mhalf_way_point\u001b[0m\u001b[0;34m]\u001b[0m\u001b[0;34m.\u001b[0m\u001b[0mmean\u001b[0m\u001b[0;34m(\u001b[0m\u001b[0;34m)\u001b[0m\u001b[0;34m\u001b[0m\u001b[0;34m\u001b[0m\u001b[0m\n\u001b[0m\u001b[1;32m      7\u001b[0m     \u001b[0mdf\u001b[0m\u001b[0;34m[\u001b[0m\u001b[0;34m\"first_half_log_return_std\"\u001b[0m\u001b[0;34m]\u001b[0m \u001b[0;34m=\u001b[0m \u001b[0mlog_return\u001b[0m\u001b[0;34m.\u001b[0m\u001b[0miloc\u001b[0m\u001b[0;34m[\u001b[0m\u001b[0;34m:\u001b[0m\u001b[0mhalf_way_point\u001b[0m\u001b[0;34m]\u001b[0m\u001b[0;34m.\u001b[0m\u001b[0mstd\u001b[0m\u001b[0;34m(\u001b[0m\u001b[0;34m)\u001b[0m\u001b[0;34m\u001b[0m\u001b[0;34m\u001b[0m\u001b[0m\n\u001b[1;32m      8\u001b[0m     \u001b[0mdf\u001b[0m\u001b[0;34m[\u001b[0m\u001b[0;34m\"second_half_log_return_mean\"\u001b[0m\u001b[0;34m]\u001b[0m \u001b[0;34m=\u001b[0m \u001b[0mlog_return\u001b[0m\u001b[0;34m.\u001b[0m\u001b[0miloc\u001b[0m\u001b[0;34m[\u001b[0m\u001b[0mhalf_way_point\u001b[0m\u001b[0;34m:\u001b[0m\u001b[0;34m]\u001b[0m\u001b[0;34m.\u001b[0m\u001b[0mmean\u001b[0m\u001b[0;34m(\u001b[0m\u001b[0;34m)\u001b[0m\u001b[0;34m\u001b[0m\u001b[0;34m\u001b[0m\u001b[0m\n",
      "\u001b[0;31mTypeError\u001b[0m: 'DataFrameGroupBy' object does not support item assignment"
     ]
    }
   ],
   "source": [
    "generate_monthly_stats(temp)"
   ]
  },
  {
   "cell_type": "code",
   "execution_count": null,
   "id": "jewish-calvin",
   "metadata": {},
   "outputs": [],
   "source": []
  }
 ],
 "metadata": {
  "kernelspec": {
   "display_name": "Python 3",
   "language": "python",
   "name": "python3"
  },
  "language_info": {
   "codemirror_mode": {
    "name": "ipython",
    "version": 3
   },
   "file_extension": ".py",
   "mimetype": "text/x-python",
   "name": "python",
   "nbconvert_exporter": "python",
   "pygments_lexer": "ipython3",
   "version": "3.8.6"
  }
 },
 "nbformat": 4,
 "nbformat_minor": 5
}
