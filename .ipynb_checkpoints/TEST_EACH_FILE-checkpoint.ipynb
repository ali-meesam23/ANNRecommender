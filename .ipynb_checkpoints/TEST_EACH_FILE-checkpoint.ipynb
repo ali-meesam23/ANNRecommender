{
 "cells": [
  {
   "cell_type": "code",
   "execution_count": 1,
   "id": "dangerous-boating",
   "metadata": {},
   "outputs": [],
   "source": [
    "%config IPCompleter.greedy=True"
   ]
  },
  {
   "cell_type": "code",
   "execution_count": 2,
   "id": "dress-disease",
   "metadata": {},
   "outputs": [],
   "source": [
    "import pandas as pd\n",
    "import numpy as np\n",
    "import datetime\n",
    "import time\n",
    "import os\n",
    "from pathlib import Path\n",
    "from alpha_vantage.timeseries import TimeSeries\n",
    "import sys\n",
    "from tqdm import tqdm\n",
    "\n",
    "# from _0_fetchconstituents import get_alpha_vantagelpha_vantage"
   ]
  },
  {
   "cell_type": "code",
   "execution_count": 3,
   "id": "regulated-anxiety",
   "metadata": {},
   "outputs": [],
   "source": [
    "# CONSTITUENT OF ALL SP500 TICKERS PER MONTH\n",
    "df_constituents = pd.read_csv('SP500.csv', parse_dates=True, index_col=0).sort_index(ascending=False)"
   ]
  },
  {
   "cell_type": "code",
   "execution_count": 4,
   "id": "rising-recommendation",
   "metadata": {},
   "outputs": [],
   "source": [
    "# ALPHA-VANTAGE OHLC TICKER DATA\n",
    "ALPHA_VANTAGE_DIR_PATH = Path(\"alphadata\").absolute()\n",
    "SECRET = \"RGBKTDQQ7C5071TJ\""
   ]
  },
  {
   "cell_type": "code",
   "execution_count": 5,
   "id": "honest-limitation",
   "metadata": {},
   "outputs": [],
   "source": [
    "# GET the list of all the TICKERS\n",
    "all_tickers = []\n",
    "for ticker_string in list(df_constituents.tickers.values):\n",
    "    ticks = ticker_string.split(\",\") \n",
    "    all_tickers+=ticks\n",
    "    all_tickers = list(set(all_tickers))"
   ]
  },
  {
   "cell_type": "code",
   "execution_count": 6,
   "id": "korean-sugar",
   "metadata": {},
   "outputs": [],
   "source": [
    "current = 0\n",
    "master_time = time.perf_counter()"
   ]
  },
  {
   "cell_type": "code",
   "execution_count": 7,
   "id": "yellow-essex",
   "metadata": {},
   "outputs": [],
   "source": [
    "def get_alpha_vantage(key, tickers, save_dir):\n",
    "    \"\"\"Given a key to Alpha Vantage and a valid ticker, this function will\n",
    "    query alpha vantage and save the dataset into a csv in a predefined\n",
    "    directory using ticker as the filename.\n",
    "    \"\"\"\n",
    "    for ticker in tqdm(tickers):\n",
    "        \n",
    "        ts = TimeSeries(key=key, output_format=\"pandas\", indexing_type=\"date\")\n",
    "\n",
    "        if isinstance(save_dir, str):\n",
    "            save_dir = Path(save_dir)\n",
    "\n",
    "        try:\n",
    "            data, meta_data = ts.get_daily_adjusted(symbol=ticker, outputsize=\"full\")\n",
    "\n",
    "            # adjusting the prices\n",
    "            data = data.rename(\n",
    "                columns={\n",
    "                    \"1. open\": \"Open\",\n",
    "                    \"2. high\": \"High\",\n",
    "                    \"3. low\": \"Low\",\n",
    "                    \"4. close\": \"Close\",\n",
    "                    \"5. adjusted close\": \"Adjusted Close\",\n",
    "                    \"6. volume\": \"Volume\",\n",
    "                    \"7. dividend amount\": \"Dividend\",\n",
    "                    \"8. split coefficient\": \"Split Coefficient\",\n",
    "                }\n",
    "            )\n",
    "            data[\"Unadjusted Open\"] = data[\"Open\"]\n",
    "            data[\"Open\"] = data[\"Close\"] * data[\"Adjusted Close\"] / data[\"Open\"]\n",
    "            data[\"High\"] = data[\"High\"] * data[\"Open\"] / data[\"Unadjusted Open\"]\n",
    "            data[\"Low\"] = data[\"Low\"] * data[\"Open\"] / data[\"Unadjusted Open\"]\n",
    "            data[\"Close\"] = data[\"Adjusted Close\"]\n",
    "            data[[\"Open\", \"High\", \"Low\", \"Close\", \"Volume\"]].round(4).to_csv(\n",
    "                save_dir / f\"{ticker}.csv\"\n",
    "            )\n",
    "            # print(f\"{ticker}\",end=\" \")\n",
    "            # return True\n",
    "        except Exception as e:\n",
    "            # print(str(e))\n",
    "            print(f\"{ticker}\",end=\" \")\n"
   ]
  },
  {
   "cell_type": "code",
   "execution_count": null,
   "id": "ordered-madness",
   "metadata": {},
   "outputs": [],
   "source": [
    "get_alpha_vantage(SECRET,all_tickers,ALPHA_VANTAGE_DIR_PATH)"
   ]
  },
  {
   "cell_type": "code",
   "execution_count": null,
   "id": "fewer-madness",
   "metadata": {},
   "outputs": [],
   "source": []
  }
 ],
 "metadata": {
  "kernelspec": {
   "display_name": "Python 3",
   "language": "python",
   "name": "python3"
  },
  "language_info": {
   "codemirror_mode": {
    "name": "ipython",
    "version": 3
   },
   "file_extension": ".py",
   "mimetype": "text/x-python",
   "name": "python",
   "nbconvert_exporter": "python",
   "pygments_lexer": "ipython3",
   "version": "3.8.6"
  }
 },
 "nbformat": 4,
 "nbformat_minor": 5
}
