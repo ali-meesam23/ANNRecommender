{
 "cells": [
  {
   "cell_type": "code",
   "execution_count": 1,
   "id": "received-valley",
   "metadata": {},
   "outputs": [],
   "source": [
    "from itertools import chain\n",
    "import pandas as pd\n",
    "import numpy as np\n",
    "import datetime\n",
    "import time\n",
    "import os\n",
    "from pathlib import Path\n",
    "from alpha_vantage.timeseries import TimeSeries\n",
    "import sys"
   ]
  },
  {
   "cell_type": "code",
   "execution_count": 5,
   "id": "alert-cache",
   "metadata": {},
   "outputs": [],
   "source": [
    "import pandas_datareader.data as web"
   ]
  },
  {
   "cell_type": "code",
   "execution_count": 13,
   "id": "armed-occurrence",
   "metadata": {},
   "outputs": [],
   "source": [
    "import yfinance as yf\n",
    "\n",
    "gspc = yf.Ticker(\"^GSPC\")\n",
    "\n",
    "# get stock info\n",
    "# print(gspc.info)\n",
    "\n",
    "# get historical market data\n",
    "hist = gspc.history(period=\"max\",interval='1mo')"
   ]
  },
  {
   "cell_type": "code",
   "execution_count": 17,
   "id": "radical-clark",
   "metadata": {},
   "outputs": [],
   "source": [
    "benchmark_index = hist\n",
    "benchmark_index = benchmark_index[\n",
    "    (benchmark_index.index >= \"2000\") & (benchmark_index.index <= \"2021\")\n",
    "]"
   ]
  },
  {
   "cell_type": "code",
   "execution_count": 20,
   "id": "fatty-cancer",
   "metadata": {},
   "outputs": [
    {
     "ename": "NameError",
     "evalue": "name 'dates' is not defined",
     "output_type": "error",
     "traceback": [
      "\u001b[0;31m---------------------------------------------------------------------------\u001b[0m",
      "\u001b[0;31mNameError\u001b[0m                                 Traceback (most recent call last)",
      "\u001b[0;32m<ipython-input-20-78ee75c07ac8>\u001b[0m in \u001b[0;36m<module>\u001b[0;34m\u001b[0m\n\u001b[1;32m      1\u001b[0m \u001b[0mbenchmark_index\u001b[0m \u001b[0;34m=\u001b[0m \u001b[0mbenchmark_index\u001b[0m\u001b[0;34m.\u001b[0m\u001b[0mresample\u001b[0m\u001b[0;34m(\u001b[0m\u001b[0;34m\"1M\"\u001b[0m\u001b[0;34m)\u001b[0m\u001b[0;34m[\u001b[0m\u001b[0;34m\"Close\"\u001b[0m\u001b[0;34m]\u001b[0m\u001b[0;34m.\u001b[0m\u001b[0magg\u001b[0m\u001b[0;34m(\u001b[0m\u001b[0;34m\"last\"\u001b[0m\u001b[0;34m)\u001b[0m\u001b[0;34m\u001b[0m\u001b[0;34m\u001b[0m\u001b[0m\n\u001b[0;32m----> 2\u001b[0;31m \u001b[0mbenchmark_index\u001b[0m \u001b[0;34m=\u001b[0m \u001b[0mbenchmark_index\u001b[0m\u001b[0;34m.\u001b[0m\u001b[0mloc\u001b[0m\u001b[0;34m[\u001b[0m\u001b[0;34m[\u001b[0m\u001b[0md\u001b[0m\u001b[0;34m.\u001b[0m\u001b[0misoformat\u001b[0m\u001b[0;34m(\u001b[0m\u001b[0;34m)\u001b[0m \u001b[0;32mfor\u001b[0m \u001b[0md\u001b[0m \u001b[0;32min\u001b[0m \u001b[0mdates\u001b[0m\u001b[0;34m[\u001b[0m\u001b[0;34m:\u001b[0m\u001b[0;34m-\u001b[0m\u001b[0;36m1\u001b[0m\u001b[0;34m]\u001b[0m\u001b[0;34m]\u001b[0m\u001b[0;34m]\u001b[0m\u001b[0;34m\u001b[0m\u001b[0;34m\u001b[0m\u001b[0m\n\u001b[0m\u001b[1;32m      3\u001b[0m \u001b[0mbenchmark_index\u001b[0m \u001b[0;34m/=\u001b[0m \u001b[0mbenchmark_index\u001b[0m\u001b[0;34m.\u001b[0m\u001b[0miloc\u001b[0m\u001b[0;34m[\u001b[0m\u001b[0;36m0\u001b[0m\u001b[0;34m]\u001b[0m\u001b[0;34m\u001b[0m\u001b[0;34m\u001b[0m\u001b[0m\n",
      "\u001b[0;31mNameError\u001b[0m: name 'dates' is not defined"
     ]
    }
   ],
   "source": [
    "benchmark_index = benchmark_index.resample(\"1M\")[\"Close\"].agg(\"last\")\n",
    "benchmark_index = benchmark_index.loc[[d.isoformat() for d in dates[:-1]]]\n",
    "benchmark_index /= benchmark_index.iloc[0]"
   ]
  },
  {
   "cell_type": "code",
   "execution_count": 19,
   "id": "supported-thinking",
   "metadata": {},
   "outputs": [
    {
     "data": {
      "text/plain": [
       "Date\n",
       "2000-01-31    1394.459961\n",
       "2000-02-29    1366.420044\n",
       "2000-03-31    1498.579956\n",
       "2000-04-30    1452.430054\n",
       "2000-05-31    1420.599976\n",
       "                 ...     \n",
       "2020-09-30    3363.000000\n",
       "2020-10-31    3269.959961\n",
       "2020-11-30    3621.629883\n",
       "2020-12-31    3756.070068\n",
       "2021-01-31    3714.239990\n",
       "Freq: M, Name: Close, Length: 253, dtype: float64"
      ]
     },
     "execution_count": 19,
     "metadata": {},
     "output_type": "execute_result"
    }
   ],
   "source": [
    "benchmark_index.resample(\"1M\")[\"Close\"].agg(\"last\")"
   ]
  },
  {
   "cell_type": "code",
   "execution_count": 2,
   "id": "assured-petite",
   "metadata": {},
   "outputs": [
    {
     "ename": "NameError",
     "evalue": "name 'read_yfinance' is not defined",
     "output_type": "error",
     "traceback": [
      "\u001b[0;31m---------------------------------------------------------------------------\u001b[0m",
      "\u001b[0;31mNameError\u001b[0m                                 Traceback (most recent call last)",
      "\u001b[0;32m<ipython-input-2-78b9a19211d8>\u001b[0m in \u001b[0;36m<module>\u001b[0;34m\u001b[0m\n\u001b[0;32m----> 1\u001b[0;31m \u001b[0mbenchmark_index\u001b[0m \u001b[0;34m=\u001b[0m \u001b[0mread_yfinance\u001b[0m\u001b[0;34m(\u001b[0m\u001b[0;34m\"GSPC\"\u001b[0m\u001b[0;34m)\u001b[0m\u001b[0;34m\u001b[0m\u001b[0;34m\u001b[0m\u001b[0m\n\u001b[0m\u001b[1;32m      2\u001b[0m benchmark_index = benchmark_index[\n\u001b[1;32m      3\u001b[0m     \u001b[0;34m(\u001b[0m\u001b[0mbenchmark_index\u001b[0m\u001b[0;34m.\u001b[0m\u001b[0mindex\u001b[0m \u001b[0;34m>=\u001b[0m \u001b[0;34m\"2000\"\u001b[0m\u001b[0;34m)\u001b[0m \u001b[0;34m&\u001b[0m \u001b[0;34m(\u001b[0m\u001b[0mbenchmark_index\u001b[0m\u001b[0;34m.\u001b[0m\u001b[0mindex\u001b[0m \u001b[0;34m<=\u001b[0m \u001b[0;34m\"2021\"\u001b[0m\u001b[0;34m)\u001b[0m\u001b[0;34m\u001b[0m\u001b[0;34m\u001b[0m\u001b[0m\n\u001b[1;32m      4\u001b[0m ]\n\u001b[1;32m      5\u001b[0m \u001b[0mbenchmark_index\u001b[0m \u001b[0;34m=\u001b[0m \u001b[0mbenchmark_index\u001b[0m\u001b[0;34m.\u001b[0m\u001b[0mresample\u001b[0m\u001b[0;34m(\u001b[0m\u001b[0;34m\"1M\"\u001b[0m\u001b[0;34m)\u001b[0m\u001b[0;34m[\u001b[0m\u001b[0;34m\"Close\"\u001b[0m\u001b[0;34m]\u001b[0m\u001b[0;34m.\u001b[0m\u001b[0magg\u001b[0m\u001b[0;34m(\u001b[0m\u001b[0;34m\"last\"\u001b[0m\u001b[0;34m)\u001b[0m\u001b[0;34m\u001b[0m\u001b[0;34m\u001b[0m\u001b[0m\n",
      "\u001b[0;31mNameError\u001b[0m: name 'read_yfinance' is not defined"
     ]
    }
   ],
   "source": [
    "benchmark_index = read_yfinance(\"GSPC\")\n",
    "benchmark_index = benchmark_index[\n",
    "    (benchmark_index.index >= \"2000\") & (benchmark_index.index <= \"2021\")\n",
    "]\n",
    "benchmark_index = benchmark_index.resample(\"1M\")[\"Close\"].agg(\"last\")\n",
    "benchmark_index = benchmark_index.loc[[d.isoformat() for d in dates[:-1]]]\n",
    "benchmark_index /= benchmark_index.iloc[0]"
   ]
  },
  {
   "cell_type": "code",
   "execution_count": null,
   "id": "statewide-surveillance",
   "metadata": {},
   "outputs": [],
   "source": []
  }
 ],
 "metadata": {
  "kernelspec": {
   "display_name": "Python 3",
   "language": "python",
   "name": "python3"
  },
  "language_info": {
   "codemirror_mode": {
    "name": "ipython",
    "version": 3
   },
   "file_extension": ".py",
   "mimetype": "text/x-python",
   "name": "python",
   "nbconvert_exporter": "python",
   "pygments_lexer": "ipython3",
   "version": "3.8.6"
  }
 },
 "nbformat": 4,
 "nbformat_minor": 5
}
