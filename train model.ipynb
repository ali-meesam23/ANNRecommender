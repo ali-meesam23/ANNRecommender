{
 "cells": [
  {
   "cell_type": "code",
   "execution_count": 1,
   "id": "respected-seeker",
   "metadata": {},
   "outputs": [],
   "source": [
    "from itertools import chain\n",
    "import pandas as pd\n",
    "import numpy as np\n",
    "import datetime\n",
    "import time\n",
    "import os\n",
    "from pathlib import Path\n",
    "from alpha_vantage.timeseries import TimeSeries\n",
    "import sys"
   ]
  },
  {
   "cell_type": "code",
   "execution_count": 2,
   "id": "grand-article",
   "metadata": {},
   "outputs": [],
   "source": [
    "FEATURE_COLUMNS = [\n",
    "    \"first_half_log_return_mean\",\n",
    "    \"first_half_log_return_std\",\n",
    "    \"second_half_log_return_mean\",\n",
    "    \"second_half_log_return_std\",\n",
    "    \"first_second_half_log_return_diff\",\n",
    "    \"log_return_mean\",\n",
    "    \"log_return_std\",\n",
    "    \"log_return_min\",\n",
    "    \"log_return_max\",\n",
    "    \"month_log_return\",\n",
    "    \"pct_bull\",\n",
    "]"
   ]
  },
  {
   "cell_type": "code",
   "execution_count": 3,
   "id": "boolean-cocktail",
   "metadata": {},
   "outputs": [],
   "source": [
    "NUM_FEATURES = len(FEATURE_COLUMNS)  # we have 11 features in total"
   ]
  },
  {
   "cell_type": "code",
   "execution_count": 5,
   "id": "norman-model",
   "metadata": {},
   "outputs": [],
   "source": [
    "path = 'tickers_summary/'\n",
    "tickers = os.listdir(path)"
   ]
  },
  {
   "cell_type": "code",
   "execution_count": 6,
   "id": "systematic-louisiana",
   "metadata": {},
   "outputs": [],
   "source": [
    "df_constituents = {ticker: pd.read_csv(os.path.join(path,ticker)) for ticker in tickers}"
   ]
  },
  {
   "cell_type": "code",
   "execution_count": 7,
   "id": "black-helena",
   "metadata": {},
   "outputs": [
    {
     "ename": "AttributeError",
     "evalue": "'dict' object has no attribute 'resample'",
     "output_type": "error",
     "traceback": [
      "\u001b[0;31m---------------------------------------------------------------------------\u001b[0m",
      "\u001b[0;31mAttributeError\u001b[0m                            Traceback (most recent call last)",
      "\u001b[0;32m<ipython-input-7-6ad55fb94bc0>\u001b[0m in \u001b[0;36m<module>\u001b[0;34m\u001b[0m\n\u001b[1;32m      1\u001b[0m \u001b[0;31m# prepare our list of surviving constituents by the end of every month\u001b[0m\u001b[0;34m\u001b[0m\u001b[0;34m\u001b[0m\u001b[0;34m\u001b[0m\u001b[0m\n\u001b[1;32m      2\u001b[0m df_constituents_end_of_month = (\n\u001b[0;32m----> 3\u001b[0;31m     \u001b[0mdf_constituents\u001b[0m\u001b[0;34m.\u001b[0m\u001b[0mresample\u001b[0m\u001b[0;34m(\u001b[0m\u001b[0;34m\"1M\"\u001b[0m\u001b[0;34m)\u001b[0m\u001b[0;34m.\u001b[0m\u001b[0magg\u001b[0m\u001b[0;34m(\u001b[0m\u001b[0;34m\"last\"\u001b[0m\u001b[0;34m)\u001b[0m\u001b[0;34m.\u001b[0m\u001b[0mfillna\u001b[0m\u001b[0;34m(\u001b[0m\u001b[0mmethod\u001b[0m\u001b[0;34m=\u001b[0m\u001b[0;34m\"ffill\"\u001b[0m\u001b[0;34m)\u001b[0m\u001b[0;34m\u001b[0m\u001b[0;34m\u001b[0m\u001b[0m\n\u001b[0m\u001b[1;32m      4\u001b[0m )\n",
      "\u001b[0;31mAttributeError\u001b[0m: 'dict' object has no attribute 'resample'"
     ]
    }
   ],
   "source": [
    "# prepare our list of surviving constituents by the end of every month\n",
    "df_constituents_end_of_month = (\n",
    "    df_constituents.resample(\"1M\").agg(\"last\").fillna(method=\"ffill\")\n",
    ")\n"
   ]
  },
  {
   "cell_type": "code",
   "execution_count": null,
   "id": "exotic-survivor",
   "metadata": {},
   "outputs": [],
   "source": []
  }
 ],
 "metadata": {
  "kernelspec": {
   "display_name": "Python 3",
   "language": "python",
   "name": "python3"
  },
  "language_info": {
   "codemirror_mode": {
    "name": "ipython",
    "version": 3
   },
   "file_extension": ".py",
   "mimetype": "text/x-python",
   "name": "python",
   "nbconvert_exporter": "python",
   "pygments_lexer": "ipython3",
   "version": "3.8.6"
  }
 },
 "nbformat": 4,
 "nbformat_minor": 5
}
