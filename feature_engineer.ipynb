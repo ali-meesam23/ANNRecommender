{
 "cells": [
  {
   "cell_type": "code",
   "execution_count": 1,
   "id": "intelligent-astrology",
   "metadata": {},
   "outputs": [],
   "source": [
    "from itertools import chain\n",
    "import pandas as pd\n",
    "import numpy as np\n",
    "import datetime\n",
    "import time\n",
    "import os\n",
    "from pathlib import Path\n",
    "from alpha_vantage.timeseries import TimeSeries\n",
    "import sys\n",
    "from tqdm import tqdm"
   ]
  },
  {
   "cell_type": "code",
   "execution_count": 2,
   "id": "genuine-crown",
   "metadata": {},
   "outputs": [],
   "source": [
    "ALPHA_VANTAGE_DIR_PATH = Path(\"alphadata\").absolute()\n",
    "# GET TICKERS\n",
    "tickers = os.listdir(ALPHA_VANTAGE_DIR_PATH)"
   ]
  },
  {
   "cell_type": "code",
   "execution_count": 3,
   "id": "multiple-exception",
   "metadata": {},
   "outputs": [],
   "source": [
    "slippage = .005 # 0.5% slippage per trade\n",
    "dict_dfs = dict()"
   ]
  },
  {
   "cell_type": "code",
   "execution_count": 4,
   "id": "korean-publication",
   "metadata": {},
   "outputs": [],
   "source": [
    "def generate_monthly_stats(df):\n",
    "    #print(df)\n",
    "    log_return = df[\"Close\"].apply(np.log).diff()\n",
    "    half_way_point = len(df) // 2\n",
    "\n",
    "    return {\n",
    "        \"Open\": df[\"Open\"].iloc[0],\n",
    "        \"High\": df[\"High\"].max(),\n",
    "        \"Low\": df[\"Low\"].min(),\n",
    "        \"Close\": df[\"Close\"].iloc[-1],\n",
    "        \"Volume\": df[\"Volume\"].sum(),\n",
    "        \"first_half_log_return_mean\": log_return.iloc[:half_way_point].mean(),\n",
    "        \"first_half_log_return_std\": log_return.iloc[:half_way_point].std(),\n",
    "        \"second_half_log_return_mean\": log_return.iloc[half_way_point:].mean(),\n",
    "        \"second_half_log_return_std\": log_return.iloc[half_way_point:].std(),\n",
    "        \"first_second_half_log_return_diff\": (\n",
    "            log_return.iloc[half_way_point:].sum()\n",
    "            - log_return.iloc[:half_way_point].sum()\n",
    "        ),\n",
    "        \"log_return_mean\": log_return.mean(),\n",
    "        \"log_return_std\": log_return.std(),\n",
    "        \"log_return_min\": log_return.min(),\n",
    "        \"log_return_max\": log_return.max(),\n",
    "        \"month_log_return\": np.log(df[\"Close\"].iloc[-1] / df[\"Open\"].iloc[0]),\n",
    "        \"pct_bull\": (log_return > 0).mean()\n",
    "    }"
   ]
  },
  {
   "cell_type": "code",
   "execution_count": 6,
   "id": "subtle-cathedral",
   "metadata": {},
   "outputs": [
    {
     "name": "stderr",
     "output_type": "stream",
     "text": [
      " 27%|██▋       | 244/901 [11:45<33:11,  3.03s/it]"
     ]
    },
    {
     "name": "stdout",
     "output_type": "stream",
     "text": [
      "Skipping: PSFT.csv\n"
     ]
    },
    {
     "name": "stderr",
     "output_type": "stream",
     "text": [
      " 40%|███▉      | 359/901 [16:51<18:03,  2.00s/it]"
     ]
    },
    {
     "name": "stdout",
     "output_type": "stream",
     "text": [
      "Skipping: APOL.csv\n"
     ]
    },
    {
     "name": "stderr",
     "output_type": "stream",
     "text": [
      " 46%|████▌     | 411/901 [19:20<28:49,  3.53s/it]"
     ]
    },
    {
     "name": "stdout",
     "output_type": "stream",
     "text": [
      "Skipping: USBC.csv\n"
     ]
    },
    {
     "name": "stderr",
     "output_type": "stream",
     "text": [
      " 52%|█████▏    | 465/901 [21:54<21:34,  2.97s/it]"
     ]
    },
    {
     "name": "stdout",
     "output_type": "stream",
     "text": [
      "Skipping: CPWR.csv\n"
     ]
    },
    {
     "name": "stderr",
     "output_type": "stream",
     "text": [
      " 92%|█████████▏| 833/901 [38:23<02:56,  2.60s/it]"
     ]
    },
    {
     "name": "stdout",
     "output_type": "stream",
     "text": [
      "Skipping: NVLS.csv\n"
     ]
    },
    {
     "name": "stderr",
     "output_type": "stream",
     "text": [
      " 93%|█████████▎| 837/901 [38:33<02:53,  2.71s/it]"
     ]
    },
    {
     "name": "stdout",
     "output_type": "stream",
     "text": [
      "Skipping: DNB.csv\n"
     ]
    },
    {
     "name": "stderr",
     "output_type": "stream",
     "text": [
      " 95%|█████████▍| 854/901 [39:12<02:28,  3.15s/it]"
     ]
    },
    {
     "name": "stdout",
     "output_type": "stream",
     "text": [
      "Skipping: NE.csv\n"
     ]
    },
    {
     "name": "stderr",
     "output_type": "stream",
     "text": [
      "100%|██████████| 901/901 [41:16<00:00,  2.75s/it]"
     ]
    },
    {
     "name": "stdout",
     "output_type": "stream",
     "text": [
      "0:41:16.423575\n"
     ]
    },
    {
     "name": "stderr",
     "output_type": "stream",
     "text": [
      "\n"
     ]
    }
   ],
   "source": [
    "s = datetime.datetime.now()\n",
    "\n",
    "for t in tqdm(tickers):\n",
    "    # t = tickers[0]\n",
    "    try:\n",
    "        temp = (\n",
    "                pd.read_csv(ALPHA_VANTAGE_DIR_PATH / f\"{t}\", index_col=0, parse_dates=True)\n",
    "                .groupby(pd.Grouper(freq=\"1M\"))\n",
    "                .apply(generate_monthly_stats)\n",
    "            )\n",
    "\n",
    "\n",
    "        df = pd.DataFrame()\n",
    "        for i in range(len(temp)):\n",
    "            df = df.append(pd.DataFrame.from_dict(temp.iloc[i],orient='index').T, ignore_index=True)\n",
    "        # df = df.append(pd.DataFrame.from_dict(temp.iloc[1],orient='index').T, ignore_index=True)\n",
    "        df.set_index = temp.index\n",
    "\n",
    "        df.index = list(temp.index)\n",
    "\n",
    "        df[\"next_month_log_return\"] = np.log(\n",
    "                np.exp(df[\"month_log_return\"].shift(-1)) * (1 - slippage) / (1 + slippage)\n",
    "            )\n",
    "        dict_dfs[t] = df\n",
    "    except:\n",
    "        print(f\"Skipping: {t}\")\n",
    "\n",
    "e = datetime.datetime.now()\n",
    "\n",
    "print(e-s)"
   ]
  },
  {
   "cell_type": "code",
   "execution_count": 8,
   "id": "architectural-witch",
   "metadata": {},
   "outputs": [],
   "source": [
    "dict_dfs[t].to_csv(t)"
   ]
  },
  {
   "cell_type": "code",
   "execution_count": 9,
   "id": "contained-calculation",
   "metadata": {},
   "outputs": [
    {
     "name": "stderr",
     "output_type": "stream",
     "text": [
      "100%|██████████| 894/894 [00:21<00:00, 42.34it/s]\n"
     ]
    }
   ],
   "source": [
    "for ticker in tqdm(dict_dfs):\n",
    "    dict_dfs[ticker].to_csv(f'tickers_summary/{ticker}')"
   ]
  },
  {
   "cell_type": "code",
   "execution_count": null,
   "id": "electronic-modification",
   "metadata": {},
   "outputs": [],
   "source": []
  }
 ],
 "metadata": {
  "kernelspec": {
   "display_name": "Python 3",
   "language": "python",
   "name": "python3"
  },
  "language_info": {
   "codemirror_mode": {
    "name": "ipython",
    "version": 3
   },
   "file_extension": ".py",
   "mimetype": "text/x-python",
   "name": "python",
   "nbconvert_exporter": "python",
   "pygments_lexer": "ipython3",
   "version": "3.8.6"
  }
 },
 "nbformat": 4,
 "nbformat_minor": 5
}
