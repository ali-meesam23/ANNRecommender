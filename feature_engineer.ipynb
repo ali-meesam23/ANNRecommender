{
 "cells": [
  {
   "cell_type": "code",
   "execution_count": null,
   "id": "intelligent-astrology",
   "metadata": {},
   "outputs": [],
   "source": [
    "from itertools import chain\n",
    "import pandas as pd\n",
    "import numpy as np\n",
    "import datetime\n",
    "import time\n",
    "import os\n",
    "from pathlib import Path\n",
    "from alpha_vantage.timeseries import TimeSeries\n",
    "import sys"
   ]
  },
  {
   "cell_type": "code",
   "execution_count": 2,
   "id": "genuine-crown",
   "metadata": {},
   "outputs": [],
   "source": [
    "ALPHA_VANTAGE_DIR_PATH = Path(\"alphadata\").absolute()"
   ]
  },
  {
   "cell_type": "code",
   "execution_count": 4,
   "id": "korean-publication",
   "metadata": {},
   "outputs": [],
   "source": [
    "def generate_monthly_stats(df):\n",
    "    #print(df)\n",
    "    log_return = df[\"Close\"].apply(np.log).diff()\n",
    "    half_way_point = len(df) // 2\n",
    "\n",
    "    return {\n",
    "        \"Open\": df[\"Open\"].iloc[0],\n",
    "        \"High\": df[\"High\"].max(),\n",
    "        \"Low\": df[\"Low\"].min(),\n",
    "        \"Close\": df[\"Close\"].iloc[-1],\n",
    "        \"Volume\": df[\"Volume\"].sum(),\n",
    "        \"first_half_log_return_mean\": log_return.iloc[:half_way_point].mean(),\n",
    "        \"first_half_log_return_std\": log_return.iloc[:half_way_point].std(),\n",
    "        \"second_half_log_return_mean\": log_return.iloc[half_way_point:].mean(),\n",
    "        \"second_half_log_return_std\": log_return.iloc[half_way_point:].std(),\n",
    "        \"first_second_half_log_return_diff\": (\n",
    "            log_return.iloc[half_way_point:].sum()\n",
    "            - log_return.iloc[:half_way_point].sum()\n",
    "        ),\n",
    "        \"log_return_mean\": log_return.mean(),\n",
    "        \"log_return_std\": log_return.std(),\n",
    "        \"log_return_min\": log_return.min(),\n",
    "        \"log_return_max\": log_return.max(),\n",
    "        \"month_log_return\": np.log(df[\"Close\"].iloc[-1] / df[\"Open\"].iloc[0]),\n",
    "        \"pct_bull\": (log_return > 0).mean()\n",
    "    }"
   ]
  },
  {
   "cell_type": "code",
   "execution_count": 5,
   "id": "detected-jimmy",
   "metadata": {},
   "outputs": [],
   "source": [
    "tickers = list(set(os.listdir(ALPHA_VANTAGE_DIR_PATH)))"
   ]
  },
  {
   "cell_type": "code",
   "execution_count": 6,
   "id": "constant-framework",
   "metadata": {},
   "outputs": [],
   "source": [
    "slippage = .005 # 0.5% slippage per trade"
   ]
  },
  {
   "cell_type": "code",
   "execution_count": 33,
   "id": "superior-payday",
   "metadata": {},
   "outputs": [],
   "source": [
    "dict_dfs = dict()"
   ]
  },
  {
   "cell_type": "code",
   "execution_count": 34,
   "id": "charitable-silly",
   "metadata": {},
   "outputs": [],
   "source": [
    "for t in tickers:\n",
    "    df = (pd.read_csv(os.path.join(ALPHA_VANTAGE_DIR_PATH,t), index_col=0, parse_dates=True).groupby(pd.Grouper(freq=\"1M\")).apply(generate_monthly_stats))"
   ]
  },
  {
   "cell_type": "code",
   "execution_count": 35,
   "id": "fabulous-railway",
   "metadata": {},
   "outputs": [],
   "source": []
  },
  {
   "cell_type": "code",
   "execution_count": 44,
   "id": "greater-prince",
   "metadata": {},
   "outputs": [],
   "source": [
    "cols = list(temp.iloc[0].keys())\n",
    "df=pd.DataFrame(columns=cols)"
   ]
  },
  {
   "cell_type": "code",
   "execution_count": 47,
   "id": "identified-ferry",
   "metadata": {},
   "outputs": [],
   "source": [
    "df = pd.DataFrame(list(temp),index=temp.index)"
   ]
  },
  {
   "cell_type": "code",
   "execution_count": null,
   "id": "interested-nevada",
   "metadata": {},
   "outputs": [],
   "source": [
    "    # this stock is not available on alpha vantage\n",
    "    if not (ALPHA_VANTAGE_DIR_PATH / f\"{t}.csv\").is_file():\n",
    "        continue\n",
    "    temp = (\n",
    "        pd.read_csv(ALPHA_VANTAGE_DIR_PATH / f\"{t}.csv\", index_col=0, parse_dates=True)\n",
    "        .groupby(pd.Grouper(freq=\"1M\"))\n",
    "        .apply(generate_monthly_stats)\n",
    "    )\n",
    "    print(temp)\n",
    "    df[\"next_month_log_return\"] = np.log(np.exp(df['month_log_return'].shift(-1))*(1 - slippage) / (1 + slippage))\n",
    "    dict_dfs[t] = df"
   ]
  },
  {
   "cell_type": "code",
   "execution_count": 56,
   "id": "enormous-white",
   "metadata": {},
   "outputs": [
    {
     "data": {
      "text/plain": [
       "date\n",
       "2019-03-31   -0.018264\n",
       "2019-04-30    0.037967\n",
       "2019-05-31   -0.012765\n",
       "2019-06-30   -0.001963\n",
       "2019-07-31   -0.002455\n",
       "2019-08-31   -0.003922\n",
       "2019-09-30    0.003937\n",
       "2019-10-31   -0.007874\n",
       "2019-11-30   -0.021979\n",
       "2019-12-31    0.000000\n",
       "2020-01-31    0.000000\n",
       "2020-02-29         NaN\n",
       "Freq: M, Name: month_log_return, dtype: float64"
      ]
     },
     "execution_count": 56,
     "metadata": {},
     "output_type": "execute_result"
    }
   ],
   "source": [
    "df['month_log_return'].shift(-1)"
   ]
  },
  {
   "cell_type": "code",
   "execution_count": 55,
   "id": "posted-kazakhstan",
   "metadata": {
    "scrolled": true
   },
   "outputs": [
    {
     "data": {
      "text/plain": [
       "date\n",
       "2019-03-31   -0.028264\n",
       "2019-04-30    0.027967\n",
       "2019-05-31   -0.022766\n",
       "2019-06-30   -0.011963\n",
       "2019-07-31   -0.012455\n",
       "2019-08-31   -0.013922\n",
       "2019-09-30   -0.006063\n",
       "2019-10-31   -0.017874\n",
       "2019-11-30   -0.031979\n",
       "2019-12-31   -0.010000\n",
       "2020-01-31   -0.010000\n",
       "2020-02-29         NaN\n",
       "Freq: M, Name: month_log_return, dtype: float64"
      ]
     },
     "execution_count": 55,
     "metadata": {},
     "output_type": "execute_result"
    }
   ],
   "source": []
  },
  {
   "cell_type": "code",
   "execution_count": null,
   "id": "amino-generation",
   "metadata": {},
   "outputs": [],
   "source": [
    "df['next_month_log_return']"
   ]
  }
 ],
 "metadata": {
  "kernelspec": {
   "display_name": "Python 3",
   "language": "python",
   "name": "python3"
  },
  "language_info": {
   "codemirror_mode": {
    "name": "ipython",
    "version": 3
   },
   "file_extension": ".py",
   "mimetype": "text/x-python",
   "name": "python",
   "nbconvert_exporter": "python",
   "pygments_lexer": "ipython3",
   "version": "3.8.6"
  }
 },
 "nbformat": 4,
 "nbformat_minor": 5
}
